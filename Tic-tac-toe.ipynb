{
 "cells": [
  {
   "cell_type": "code",
   "execution_count": 93,
   "metadata": {},
   "outputs": [],
   "source": [
    "from IPython.display import clear_output\n",
    "def background(board):\n",
    "    \"\"\"\n",
    "    This function will create a background for the game.\n",
    "    \"\"\"\n",
    "    clear_output()\n",
    "    print (\"    |     |    \")\n",
    "    print (\" \" + board[1] + \"  |  \" + board[2] + \"  |  \" + board[3])\n",
    "    print (\"    |     |    \")\n",
    "    print (\"----+-----+----\")\n",
    "    print (\"    |     |    \")\n",
    "    print (\" \" + board[4] + \"  |  \" + board[5] + \"  |  \" + board[6])\n",
    "    print (\"    |     |    \")\n",
    "    print (\"----+-----+----\")\n",
    "    print (\"    |     |    \")\n",
    "    print (\" \" + board[7] + \"  |  \" + board[8] + \"  |  \" + board[9])\n",
    "    print (\"    |     |    \")"
   ]
  },
  {
   "cell_type": "code",
   "execution_count": 62,
   "metadata": {},
   "outputs": [
    {
     "name": "stdout",
     "output_type": "stream",
     "text": [
      "    |     |    \n",
      " O  |  X  |  O\n",
      "    |     |    \n",
      "----+-----+----\n",
      "    |     |    \n",
      " X  |  O  |  X\n",
      "    |     |    \n",
      "----+-----+----\n",
      "    |     |    \n",
      " O  |  X  |  O\n",
      "    |     |    \n"
     ]
    }
   ],
   "source": [
    "background(['X','O','X','O','X','O','X','O','X','O'])\n",
    "#background([' ',' ',' ',' ',' ',' ',' ',' ',' ',' '])"
   ]
  },
  {
   "cell_type": "code",
   "execution_count": 66,
   "metadata": {},
   "outputs": [],
   "source": [
    "def player_input():\n",
    "    \"\"\"\n",
    "    This is a function that allows a player to choose his marker\n",
    "    Output: (player1, player2)\n",
    "    \"\"\"\n",
    "    marker = ' '\n",
    "    while marker != 'X' and marker != 'O':\n",
    "        marker = input(\"Player 1: Do you want to be X or O? \").upper()\n",
    "        if marker == 'X':\n",
    "            return ('X','O')\n",
    "        else:\n",
    "            return ('O','X')"
   ]
  },
  {
   "cell_type": "code",
   "execution_count": 69,
   "metadata": {},
   "outputs": [],
   "source": [
    "Player1_marker, player2_marker = player_input()"
   ]
  },
  {
   "cell_type": "code",
   "execution_count": 70,
   "metadata": {},
   "outputs": [
    {
     "data": {
      "text/plain": [
       "'X'"
      ]
     },
     "execution_count": 70,
     "metadata": {},
     "output_type": "execute_result"
    }
   ],
   "source": [
    "Player1_marker"
   ]
  },
  {
   "cell_type": "code",
   "execution_count": 71,
   "metadata": {},
   "outputs": [
    {
     "data": {
      "text/plain": [
       "'O'"
      ]
     },
     "execution_count": 71,
     "metadata": {},
     "output_type": "execute_result"
    }
   ],
   "source": [
    "player2_marker"
   ]
  },
  {
   "cell_type": "code",
   "execution_count": 76,
   "metadata": {},
   "outputs": [],
   "source": [
    "def board_marker (background, marker, position):\n",
    "    \"\"\"\n",
    "    This function will place the marker on the board\n",
    "    \"\"\"\n",
    "    board[position] = marker"
   ]
  },
  {
   "cell_type": "code",
   "execution_count": 95,
   "metadata": {},
   "outputs": [
    {
     "name": "stdout",
     "output_type": "stream",
     "text": [
      "    |     |    \n",
      " O  |  X  |  $\n",
      "    |     |    \n",
      "----+-----+----\n",
      "    |     |    \n",
      " X  |  O  |  X\n",
      "    |     |    \n",
      "----+-----+----\n",
      "    |     |    \n",
      " O  |  X  |  O\n",
      "    |     |    \n"
     ]
    }
   ],
   "source": [
    "board = ['X','O','X','O','X','O','X','O','X','O']\n",
    "board_marker(board,'$',3)\n",
    "background(board)"
   ]
  },
  {
   "cell_type": "code",
   "execution_count": 79,
   "metadata": {},
   "outputs": [
    {
     "name": "stdout",
     "output_type": "stream",
     "text": [
      "    |     |    \n",
      " O  |  X  |  O\n",
      "    |     |    \n",
      "----+-----+----\n",
      "    |     |    \n",
      " X  |  O  |  X\n",
      "    |     |    \n",
      "----+-----+----\n",
      "    |     |    \n",
      " O  |  X  |  O\n",
      "    |     |    \n"
     ]
    }
   ],
   "source": [
    "background(['X','O','X','O','X','O','X','O','X','O'])"
   ]
  },
  {
   "cell_type": "code",
   "execution_count": null,
   "metadata": {},
   "outputs": [],
   "source": []
  }
 ],
 "metadata": {
  "interpreter": {
   "hash": "aee8b7b246df8f9039afb4144a1f6fd8d2ca17a180786b69acc140d282b71a49"
  },
  "kernelspec": {
   "display_name": "Python 3.10.0 64-bit",
   "language": "python",
   "name": "python3"
  },
  "language_info": {
   "codemirror_mode": {
    "name": "ipython",
    "version": 3
   },
   "file_extension": ".py",
   "mimetype": "text/x-python",
   "name": "python",
   "nbconvert_exporter": "python",
   "pygments_lexer": "ipython3",
   "version": "3.10.0"
  },
  "orig_nbformat": 4
 },
 "nbformat": 4,
 "nbformat_minor": 2
}
